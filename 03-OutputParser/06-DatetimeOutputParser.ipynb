{
 "cells": [
  {
   "cell_type": "markdown",
   "id": "1a638e12",
   "metadata": {},
   "source": [
    "# DatetimeOutputParser\n",
    "\n",
    "이 OutputParser는 LLM 출력을 `datetime` 형식으로 파싱하는 데 사용할 수 있습니다.\n"
   ]
  },
  {
   "cell_type": "code",
   "execution_count": 1,
   "id": "42b26bea",
   "metadata": {},
   "outputs": [],
   "source": [
    "from langchain.output_parsers import DatetimeOutputParser\n",
    "from langchain.prompts import PromptTemplate\n",
    "from langchain_openai import OpenAI"
   ]
  },
  {
   "cell_type": "markdown",
   "id": "563e194b",
   "metadata": {},
   "source": [
    "- `DatetimeOutputParser` 클래스를 사용하여 출력 포맷을 파싱합니다.\n",
    "- 사용자의 질문에 답변하는 템플릿을 정의합니다.\n",
    "- `PromptTemplate.from_template` 함수를 사용하여 템플릿과 포맷 지시사항을 결합합니다.\n"
   ]
  },
  {
   "cell_type": "code",
   "execution_count": 2,
   "id": "46e4618c",
   "metadata": {},
   "outputs": [],
   "source": [
    "output_parser = DatetimeOutputParser()  # 날짜 및 시간 출력 파서 초기화\n",
    "template = \"\"\"Answer the users question:\n",
    "\n",
    "{question}\n",
    "\n",
    "{format_instructions}\"\"\"  # 사용자 질문에 대한 답변 템플릿\n",
    "prompt = PromptTemplate.from_template(\n",
    "    template,\n",
    "    partial_variables={\n",
    "        \"format_instructions\": output_parser.get_format_instructions()\n",
    "    },  # 포맷 지침을 템플릿에 적용\n",
    ")"
   ]
  },
  {
   "cell_type": "code",
   "execution_count": 3,
   "id": "921ebeb8",
   "metadata": {},
   "outputs": [
    {
     "data": {
      "text/plain": [
       "PromptTemplate(input_variables=['question'], partial_variables={'format_instructions': \"Write a datetime string that matches the following pattern: '%Y-%m-%dT%H:%M:%S.%fZ'.\\n\\nExamples: 0448-10-01T11:12:10.018663Z, 0176-09-13T18:09:54.127528Z, 0364-11-24T20:18:00.626295Z\\n\\nReturn ONLY this string, no other words!\"}, template='Answer the users question:\\n\\n{question}\\n\\n{format_instructions}')"
      ]
     },
     "execution_count": 3,
     "metadata": {},
     "output_type": "execute_result"
    }
   ],
   "source": [
    "# 프롬프트 내용을 출력\n",
    "prompt"
   ]
  },
  {
   "cell_type": "markdown",
   "id": "cdafee0d",
   "metadata": {},
   "source": [
    "체인을 생성합니다.\n"
   ]
  },
  {
   "cell_type": "code",
   "execution_count": 4,
   "id": "ad8b9123",
   "metadata": {},
   "outputs": [],
   "source": [
    "chain = (\n",
    "    prompt | OpenAI() | output_parser\n",
    ")  # 프롬프트를 OpenAI로 전달하고 결과를 파싱합니다."
   ]
  },
  {
   "cell_type": "markdown",
   "id": "fdd3cf71",
   "metadata": {},
   "source": [
    "체인에 `invoke()` 메서드를 활용하여 쿼리를 실행합니다.\n"
   ]
  },
  {
   "cell_type": "code",
   "execution_count": 5,
   "id": "28c43df9",
   "metadata": {},
   "outputs": [],
   "source": [
    "# 체인을 호출하여 질문에 대한 답변을 생성합니다.\n",
    "output = chain.invoke({\"question\": \"Google 이 창업한 연도는?\"})"
   ]
  },
  {
   "cell_type": "markdown",
   "id": "37c9f7ba",
   "metadata": {},
   "source": [
    "결과를 출력합니다.\n"
   ]
  },
  {
   "cell_type": "code",
   "execution_count": 6,
   "id": "d8e9e217",
   "metadata": {},
   "outputs": [
    {
     "name": "stdout",
     "output_type": "stream",
     "text": [
      "1998-09-04 00:00:00\n"
     ]
    }
   ],
   "source": [
    "print(output)  # 출력 결과를 표시합니다."
   ]
  }
 ],
 "metadata": {
  "kernelspec": {
   "display_name": "py-test",
   "language": "python",
   "name": "python3"
  },
  "language_info": {
   "codemirror_mode": {
    "name": "ipython",
    "version": 3
   },
   "file_extension": ".py",
   "mimetype": "text/x-python",
   "name": "python",
   "nbconvert_exporter": "python",
   "pygments_lexer": "ipython3",
   "version": "3.11.9"
  }
 },
 "nbformat": 4,
 "nbformat_minor": 5
}
