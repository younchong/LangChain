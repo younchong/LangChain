{
 "cells": [
  {
   "cell_type": "markdown",
   "id": "496237c1",
   "metadata": {},
   "source": [
    "# EnumOutputParser\n",
    "\n",
    "Enum 출력 파서의 사용 방법을 알아봅시다!\n"
   ]
  },
  {
   "cell_type": "code",
   "execution_count": 1,
   "id": "63a7ed1c",
   "metadata": {},
   "outputs": [],
   "source": [
    "from langchain.output_parsers.enum import EnumOutputParser"
   ]
  },
  {
   "cell_type": "markdown",
   "id": "1d1fd5ea",
   "metadata": {},
   "source": [
    "- `enum` 모듈을 사용하여 `Colors` 클래스를 정의합니다.\n",
    "- `Colors` 클래스는 `Enum`을 상속받으며, `RED`, `GREEN`, `BLUE` 세 가지 색상 값을 가집니다.\n"
   ]
  },
  {
   "cell_type": "code",
   "execution_count": 2,
   "id": "9a50615a",
   "metadata": {},
   "outputs": [],
   "source": [
    "from enum import Enum\n",
    "\n",
    "\n",
    "class Colors(Enum):\n",
    "    RED = \"빨간색\"\n",
    "    GREEN = \"초록색\"\n",
    "    BLUE = \"파란색\""
   ]
  },
  {
   "cell_type": "code",
   "execution_count": 3,
   "id": "029d7efd",
   "metadata": {},
   "outputs": [],
   "source": [
    "# EnumOutputParser 인스턴스 생성\n",
    "parser = EnumOutputParser(enum=Colors)"
   ]
  },
  {
   "cell_type": "markdown",
   "id": "c773d66c",
   "metadata": {},
   "source": [
    "- 프롬프트에 사람의 정보(`{person}`)와 파싱 지침(`{instructions}`)을 포함시킵니다.\n",
    "- `parser.get_format_instructions()` 함수를 호출하여 파싱 지침을 가져옵니다.\n",
    "- 프롬프트, `ChatOpenAI` 모델, 파서를 연결하여 처리 체인을 구성합니다.\n"
   ]
  },
  {
   "cell_type": "code",
   "execution_count": 4,
   "id": "d92998af",
   "metadata": {},
   "outputs": [],
   "source": [
    "from langchain_core.prompts import PromptTemplate\n",
    "from langchain_openai import ChatOpenAI\n",
    "\n",
    "# 프롬프트 템플릿을 생성합니다.\n",
    "prompt = PromptTemplate.from_template(\n",
    "    \"\"\"다음의 물체는 어떤 색깔인가요?\n",
    "\n",
    "Object: {object}\n",
    "\n",
    "Instructions: {instructions}\"\"\"\n",
    "    # 파서에서 지시사항 형식을 가져와 부분적으로 적용합니다.\n",
    ").partial(instructions=parser.get_format_instructions())\n",
    "# 프롬프트와 ChatOpenAI, 파서를 연결합니다.\n",
    "chain = prompt | ChatOpenAI() | parser"
   ]
  },
  {
   "cell_type": "markdown",
   "id": "f5ef8d89",
   "metadata": {},
   "source": [
    "- `chain.invoke` 함수를 사용하여 \"하늘\"에 대한 정보를 요청합니다.\n"
   ]
  },
  {
   "cell_type": "code",
   "execution_count": 9,
   "id": "e53d3497",
   "metadata": {},
   "outputs": [
    {
     "name": "stdout",
     "output_type": "stream",
     "text": [
      "Colors.GREEN\n"
     ]
    }
   ],
   "source": [
    "response = chain.invoke({\"object\": \"leaf\"})  # \"하늘\" 에 대한 체인 호출 실행\n",
    "print(response)"
   ]
  },
  {
   "cell_type": "markdown",
   "id": "4c5923dd",
   "metadata": {},
   "source": [
    "결과를 확인합니다.\n"
   ]
  },
  {
   "cell_type": "code",
   "execution_count": 10,
   "id": "f6f4b093",
   "metadata": {},
   "outputs": [
    {
     "data": {
      "text/plain": [
       "<enum 'Colors'>"
      ]
     },
     "execution_count": 10,
     "metadata": {},
     "output_type": "execute_result"
    }
   ],
   "source": [
    "type(response)  # 출력의 타입을 확인합니다."
   ]
  }
 ],
 "metadata": {
  "kernelspec": {
   "display_name": "py-test",
   "language": "python",
   "name": "python3"
  },
  "language_info": {
   "codemirror_mode": {
    "name": "ipython",
    "version": 3
   },
   "file_extension": ".py",
   "mimetype": "text/x-python",
   "name": "python",
   "nbconvert_exporter": "python",
   "pygments_lexer": "ipython3",
   "version": "3.11.9"
  }
 },
 "nbformat": 4,
 "nbformat_minor": 5
}
