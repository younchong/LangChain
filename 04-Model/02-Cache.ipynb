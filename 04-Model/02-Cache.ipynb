{
 "cells": [
  {
   "cell_type": "code",
   "execution_count": 1,
   "metadata": {},
   "outputs": [
    {
     "data": {
      "text/plain": [
       "True"
      ]
     },
     "execution_count": 1,
     "metadata": {},
     "output_type": "execute_result"
    }
   ],
   "source": [
    "# API KEY를 환경변수로 관리하기 위한 설정 파일\n",
    "from dotenv import load_dotenv\n",
    "\n",
    "# API KEY 정보로드\n",
    "load_dotenv()"
   ]
  },
  {
   "cell_type": "markdown",
   "metadata": {},
   "source": [
    "## 캐싱(Caching)\n",
    "\n",
    "LangChain은 LLM을 위한 선택적 캐싱 레이어를 제공합니다.\n",
    "\n",
    "이는 두 가지 이유로 유용합니다:\n",
    "\n",
    "- 동일한 완료를 여러 번 요청하는 경우 LLM 공급자에 대한 **API 호출 횟수를 줄여 비용을 절감** 할 수 있습니다.\n",
    "- LLM 제공업체에 대한 **API 호출 횟수를 줄여 애플리케이션의 속도를 높일 수** 있습니다.\n"
   ]
  },
  {
   "cell_type": "markdown",
   "metadata": {},
   "source": [
    "모델과 프롬프트를 생성합니다\n"
   ]
  },
  {
   "cell_type": "code",
   "execution_count": 2,
   "metadata": {},
   "outputs": [],
   "source": [
    "from langchain_openai import ChatOpenAI\n",
    "\n",
    "# 모델을 생성합니다.\n",
    "llm = ChatOpenAI()"
   ]
  },
  {
   "cell_type": "code",
   "execution_count": 3,
   "metadata": {},
   "outputs": [
    {
     "data": {
      "text/plain": [
       "PromptTemplate(input_variables=['country'], template='{country} 에 대해서 200자 내외로 요약해줘')"
      ]
     },
     "execution_count": 3,
     "metadata": {},
     "output_type": "execute_result"
    }
   ],
   "source": [
    "from langchain.prompts import PromptTemplate\n",
    "\n",
    "prompt = PromptTemplate.from_template(\"{country} 에 대해서 200자 내외로 요약해줘\")\n",
    "prompt"
   ]
  },
  {
   "cell_type": "code",
   "execution_count": 4,
   "metadata": {},
   "outputs": [],
   "source": [
    "chain = prompt | llm"
   ]
  },
  {
   "cell_type": "code",
   "execution_count": 5,
   "metadata": {},
   "outputs": [
    {
     "name": "stdout",
     "output_type": "stream",
     "text": [
      "CPU times: user 2.01 s, sys: 331 ms, total: 2.34 s\n",
      "Wall time: 3.19 s\n",
      "대만은 동아시아에 위치한 섬나라로, 중화민국의 수도인 타이베이를 중심으로 발전해온 나라이다. 중국 대륙과 북태평양에 둘러싸인 지리적 특성을 가지고 있으며, 혼다오족과 한국족 등 다양한 민족이 살고 있다. 대만은 선진화된 경제와 고도로 발달한 IT 산업을 보유하고 있으며, 관광자원과 문화유산도 풍부하다. 또한 중화민국과 중국 사이의 정치적 갈등으로 알려져 있으며, 국제사회에서는 중화민국이 아닌 중국 대륙의 일부로 인식되는 등 정치적인 문제가 있지만, 국제적으로 경제력과 문화적 영향력을 가진 나라이다.\n"
     ]
    }
   ],
   "source": [
    "%time response = chain.invoke({\"country\": \"대만\"})\n",
    "print(response.content)"
   ]
  },
  {
   "cell_type": "markdown",
   "metadata": {},
   "source": [
    "## SQLite Cache\n"
   ]
  },
  {
   "cell_type": "code",
   "execution_count": 6,
   "metadata": {},
   "outputs": [],
   "source": [
    "from langchain.cache import SQLiteCache\n",
    "from langchain.globals import set_llm_cache\n",
    "\n",
    "set_llm_cache(SQLiteCache(database_path=\"my_llm_cache.db\"))"
   ]
  },
  {
   "cell_type": "code",
   "execution_count": 7,
   "metadata": {},
   "outputs": [
    {
     "name": "stdout",
     "output_type": "stream",
     "text": [
      "CPU times: user 27.8 ms, sys: 15.7 ms, total: 43.4 ms\n",
      "Wall time: 4.03 s\n",
      "대만은 동아시아에 위치한 섬나라로 중화민국이라고도 불린다. 중화민국은 대만의 공식 명칭이며, 중화인민공화국 (중국) 과의 관계는 계속 논쟁거리이다. 대만은 경제적으로 선진화되어 있으며, 세계에서 가장 혁신적인 나라 중 하나로 꼽힌다. 또한, 관광 명소와 자연 경치가 아름다운 곳으로도 유명하다. 대만은 중화문화를 계승하고 있으며, 중국의 역사와 전통을 잘 보존하고 있다. 또한, 대만은 다양한 문화와 음식, 축제 등을 즐길 수 있는 다문화 국가로도 알려져 있다. 대만은 아시아에서 중요한 역할을 하는 나라 중 하나이며, 국제사회에서도 활발한 활동을 펼치고 있다.\n"
     ]
    }
   ],
   "source": [
    "%time response = chain.invoke({\"country\": \"대만\"})\n",
    "print(response.content)"
   ]
  }
 ],
 "metadata": {
  "kernelspec": {
   "display_name": "py-test",
   "language": "python",
   "name": "python3"
  },
  "language_info": {
   "codemirror_mode": {
    "name": "ipython",
    "version": 3
   },
   "file_extension": ".py",
   "mimetype": "text/x-python",
   "name": "python",
   "nbconvert_exporter": "python",
   "pygments_lexer": "ipython3",
   "version": "3.11.9"
  }
 },
 "nbformat": 4,
 "nbformat_minor": 2
}
