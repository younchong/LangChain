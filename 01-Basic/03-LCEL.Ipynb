{
 "cells": [
  {
   "cell_type": "markdown",
   "metadata": {},
   "source": [
    "## 기본 예시: 프롬프트 + 모델 + 출력 파서\n",
    "\n",
    "가장 기본적이고 일반적인 사용 사례는 prompt 템플릿과 모델을 함께 연결하는 것입니다. 이것이 어떻게 작동하는지 보기 위해, 각 나라별 수도를 물어보는 Chain을 생성해 보겠습니다.\n"
   ]
  },
  {
   "cell_type": "code",
   "execution_count": 1,
   "metadata": {},
   "outputs": [
    {
     "data": {
      "text/plain": [
       "True"
      ]
     },
     "execution_count": 1,
     "metadata": {},
     "output_type": "execute_result"
    }
   ],
   "source": [
    "# API KEY를 환경변수로 관리하기 위한 설정 파일\n",
    "from dotenv import load_dotenv\n",
    "\n",
    "# API KEY 정보로드\n",
    "load_dotenv()"
   ]
  },
  {
   "cell_type": "code",
   "execution_count": 3,
   "metadata": {},
   "outputs": [
    {
     "name": "stdout",
     "output_type": "stream",
     "text": [
      "LangSmith 추적을 시작합니다.\n",
      "[프로젝트명]\n",
      "Teddy-note-tutorial\n"
     ]
    }
   ],
   "source": [
    "# LangSmith 추적을 설정합니다. https://smith.langchain.com\n",
    "# !pip install -qU langchain-teddynote\n",
    "from langchain_teddynote import logging\n",
    "\n",
    "# 프로젝트 이름을 입력합니다.\n",
    "logging.langsmith(\"Teddy-note-tutorial\")"
   ]
  },
  {
   "cell_type": "markdown",
   "metadata": {},
   "source": [
    "## 프롬프트 템플릿의 활용\n",
    "\n",
    "`PromptTemplate`\n",
    "\n",
    "- 사용자의 입력 변수를 사용하여 완전한 프롬프트 문자열을 만드는 데 사용되는 템플릿입니다\n",
    "- 사용법\n",
    "  - `template`: 템플릿 문자열입니다. 이 문자열 내에서 중괄호 `{}`는 변수를 나타냅니다.\n",
    "  - `input_variables`: 중괄호 안에 들어갈 변수의 이름을 리스트로 정의합니다.\n",
    "\n",
    "`input_variables`\n",
    "\n",
    "- input_variables는 PromptTemplate에서 사용되는 변수의 이름을 정의하는 리스트입니다."
   ]
  },
  {
   "cell_type": "code",
   "execution_count": 4,
   "metadata": {},
   "outputs": [],
   "source": [
    "from langchain_teddynote.messages import stream_response  # 스트리밍 출력\n",
    "from langchain_core.prompts import PromptTemplate"
   ]
  },
  {
   "cell_type": "markdown",
   "metadata": {},
   "source": [
    "`from_template()` 메소드를 사용하여 PromptTemplate 객체 생성\n"
   ]
  },
  {
   "cell_type": "code",
   "execution_count": 5,
   "metadata": {},
   "outputs": [
    {
     "data": {
      "text/plain": [
       "PromptTemplate(input_variables=['country'], template='{country}의 수도는 어디인가요?')"
      ]
     },
     "execution_count": 5,
     "metadata": {},
     "output_type": "execute_result"
    }
   ],
   "source": [
    "# template 정의\n",
    "template = \"{country}의 수도는 어디인가요?\"\n",
    "\n",
    "# from_template 메소드를 이용하여 PromptTemplate 객체 생성\n",
    "prompt_template = PromptTemplate.from_template(template)\n",
    "prompt_template"
   ]
  },
  {
   "cell_type": "code",
   "execution_count": 6,
   "metadata": {},
   "outputs": [
    {
     "data": {
      "text/plain": [
       "'대한민국의 수도는 어디인가요?'"
      ]
     },
     "execution_count": 6,
     "metadata": {},
     "output_type": "execute_result"
    }
   ],
   "source": [
    "# prompt 생성\n",
    "prompt = prompt_template.format(country=\"대한민국\")\n",
    "prompt"
   ]
  },
  {
   "cell_type": "code",
   "execution_count": 7,
   "metadata": {},
   "outputs": [
    {
     "data": {
      "text/plain": [
       "'미국의 수도는 어디인가요?'"
      ]
     },
     "execution_count": 7,
     "metadata": {},
     "output_type": "execute_result"
    }
   ],
   "source": [
    "# prompt 생성\n",
    "prompt = prompt_template.format(country=\"미국\")\n",
    "prompt"
   ]
  },
  {
   "cell_type": "code",
   "execution_count": 8,
   "metadata": {},
   "outputs": [],
   "source": [
    "from langchain_openai import ChatOpenAI\n",
    "\n",
    "model = ChatOpenAI(\n",
    "    model=\"gpt-3.5-turbo\",\n",
    "    max_tokens=2048,\n",
    "    temperature=0.1,\n",
    ")"
   ]
  },
  {
   "cell_type": "markdown",
   "metadata": {},
   "source": [
    "## Chain 생성\n",
    "\n",
    "### LCEL(LangChain Expression Language)\n",
    "\n",
    "![lcel.png](./images/lcel.png)\n",
    "\n",
    "여기서 우리는 LCEL을 사용하여 다양한 구성 요소를 단일 체인으로 결합합니다\n",
    "\n",
    "```\n",
    "chain = prompt | model | output_parser\n",
    "```\n",
    "\n",
    "`|` 기호는 [unix 파이프 연산자](<https://en.wikipedia.org/wiki/Pipeline_(Unix)>)와 유사하며, 서로 다른 구성 요소를 연결하고 한 구성 요소의 출력을 다음 구성 요소의 입력으로 전달합니다.\n",
    "\n",
    "이 체인에서 사용자 입력은 프롬프트 템플릿으로 전달되고, 그런 다음 프롬프트 템플릿 출력은 모델로 전달됩니다. 각 구성 요소를 개별적으로 살펴보면 무슨 일이 일어나고 있는지 이해할 수 있습니다.\n"
   ]
  },
  {
   "cell_type": "code",
   "execution_count": 9,
   "metadata": {},
   "outputs": [],
   "source": [
    "# prompt 를 PromptTemplate 객체로 생성합니다.\n",
    "prompt = PromptTemplate.from_template(\"{topic} 에 대해 쉽게 설명해주세요.\")\n",
    "\n",
    "model = ChatOpenAI()\n",
    "\n",
    "chain = prompt | model"
   ]
  },
  {
   "cell_type": "markdown",
   "metadata": {},
   "source": [
    "### invoke() 호출\n",
    "\n",
    "- python 딕셔너리 형태로 입력값을 전달합니다.(키: 값)\n",
    "- invoke() 함수 호출 시, 입력값을 전달합니다."
   ]
  },
  {
   "cell_type": "code",
   "execution_count": 10,
   "metadata": {},
   "outputs": [],
   "source": [
    "# input 딕셔너리에 주제를 '인공지능 모델의 학습 원리'으로 설정합니다.\n",
    "input = {\"topic\": \"인공지능 모델의 학습 원리\"}"
   ]
  },
  {
   "cell_type": "code",
   "execution_count": 11,
   "metadata": {},
   "outputs": [
    {
     "data": {
      "text/plain": [
       "AIMessage(content='인공지능 모델의 학습 원리는 데이터를 입력으로 받아 이를 분석하고 패턴을 학습하는 과정입니다. 모델은 입력된 데이터를 특정한 방식으로 처리하여 원하는 결과를 예측하거나 분류하는데 사용됩니다.\\n\\n일반적으로, 인공지능 모델은 입력 데이터를 받아 가중치와 편향을 조절하면서 학습을 진행합니다. 모델은 입력 데이터와 정답(레이블) 사이의 차이를 최소화하는 방향으로 가중치를 조정하며, 이를 위해 손실 함수와 옵티마이저 등의 기법을 사용합니다.\\n\\n학습 과정은 여러 번의 반복을 통해 이루어지며, 모델이 입력 데이터를 보다 정확하게 예측하도록 가중치를 조정하면서 성능을 향상시킵니다. 이러한 과정을 통해 모델은 학습 데이터에서 학습한 패턴을 새로운 데이터에 적용하여 원하는 결과를 예측하거나 분류할 수 있습니다.', response_metadata={'token_usage': {'completion_tokens': 330, 'prompt_tokens': 33, 'total_tokens': 363}, 'model_name': 'gpt-3.5-turbo-0125', 'system_fingerprint': None, 'finish_reason': 'stop', 'logprobs': None}, id='run-9081a44d-8762-4481-84f4-39469d331409-0', usage_metadata={'input_tokens': 33, 'output_tokens': 330, 'total_tokens': 363})"
      ]
     },
     "execution_count": 11,
     "metadata": {},
     "output_type": "execute_result"
    }
   ],
   "source": [
    "# prompt 객체와 model 객체를 파이프(|) 연산자로 연결하고 invoke 메서드를 사용하여 input을 전달합니다.\n",
    "# 이를 통해 AI 모델이 생성한 메시지를 반환합니다.\n",
    "chain.invoke(input)"
   ]
  },
  {
   "cell_type": "markdown",
   "metadata": {},
   "source": [
    "아래는 스트리밍을 출력하는 예시 입니다."
   ]
  },
  {
   "cell_type": "code",
   "execution_count": 12,
   "metadata": {},
   "outputs": [
    {
     "name": "stdout",
     "output_type": "stream",
     "text": [
      "인공지능 모델의 학습 원리는 데이터를 입력받아 패턴을 학습하고 이를 기반으로 예측이나 결정을 내리는 과정입니다. \n",
      "\n",
      "먼저, 모델은 입력된 데이터를 기반으로 가중치를 조절하고 편향을 추가하여 학습을 진행합니다. 이를 통해 모델은 데이터의 패턴을 파악하고 예측을 수행할 수 있게 됩니다. \n",
      "\n",
      "학습 과정에서 모델은 손실 함수를 이용하여 예측값과 실제값의 차이를 계산하고, 이를 최소화하기 위해 가중치를 업데이트합니다. 이를 반복하여 모델이 최적의 가중치와 편향을 찾아내게 됩니다. \n",
      "\n",
      "이렇게 학습된 모델은 새로운 데이터를 입력받아 패턴을 파악하고 예측을 수행할 수 있습니다."
     ]
    }
   ],
   "source": [
    "# 스트리밍 출력을 위한 요청\n",
    "answer = chain.stream(input)\n",
    "# 스트리밍 출력\n",
    "stream_response(answer)"
   ]
  },
  {
   "cell_type": "markdown",
   "metadata": {},
   "source": [
    "### 출력파서(Output Parser)\n"
   ]
  },
  {
   "cell_type": "code",
   "execution_count": 13,
   "metadata": {},
   "outputs": [],
   "source": [
    "from langchain_core.output_parsers import StrOutputParser\n",
    "\n",
    "output_parser = StrOutputParser()"
   ]
  },
  {
   "cell_type": "markdown",
   "metadata": {},
   "source": [
    "Chain 에 출력파서를 추가합니다."
   ]
  },
  {
   "cell_type": "code",
   "execution_count": 14,
   "metadata": {},
   "outputs": [],
   "source": [
    "# 프롬프트, 모델, 출력 파서를 연결하여 처리 체인을 구성합니다.\n",
    "chain = prompt | model | output_parser"
   ]
  },
  {
   "cell_type": "code",
   "execution_count": 15,
   "metadata": {},
   "outputs": [
    {
     "data": {
      "text/plain": [
       "'인공지능 모델의 학습 원리는 데이터를 사용하여 모델이 패턴을 학습하는 과정입니다. 모델은 입력 데이터를 받아들이고, 내부의 가중치와 편향을 조정하여 원하는 출력을 만들어 내도록 학습됩니다. \\n\\n이때, 모델은 입력 데이터와 정답 데이터를 사용하여 손실 함수를 계산하고, 이 손실 함수를 최소화하는 방향으로 학습을 진행합니다. 이를 위해 경사 하강법과 같은 최적화 알고리즘이 사용되어 모델의 가중치와 편향을 업데이트하게 됩니다. \\n\\n이런 과정을 반복하여 모델이 입력 데이터를 올바르게 예측할 수 있도록 학습시키는 것이 인공지능 모델의 핵심 원리입니다.'"
      ]
     },
     "execution_count": 15,
     "metadata": {},
     "output_type": "execute_result"
    }
   ],
   "source": [
    "# chain 객체의 invoke 메서드를 사용하여 input을 전달합니다.\n",
    "input = {\"topic\": \"인공지능 모델의 학습 원리\"}\n",
    "chain.invoke(input)"
   ]
  },
  {
   "cell_type": "code",
   "execution_count": 16,
   "metadata": {},
   "outputs": [
    {
     "name": "stdout",
     "output_type": "stream",
     "text": [
      "인공지능 모델의 학습 원리는 데이터를 활용하여 모델이 패턴이나 규칙을 학습하도록 하는 것입니다. 모델은 입력 데이터를 받아들이고, 이를 처리하여 원하는 결과를 출력합니다. \n",
      "\n",
      "모델은 초기에는 무작위로 설정된 가중치와 편향을 가지고 있어서 정확한 결과를 출력하지 못합니다. 이때, 학습 데이터를 이용하여 모델의 가중치와 편향을 조정하면서, 입력 데이터와 출력 결과 사이의 관계를 학습하게 됩니다. \n",
      "\n",
      "이 과정에서 모델은 손실 함수를 통해 예측 결과와 실제 결과의 차이를 계산하고, 이 손실을 최소화하는 방향으로 가중치와 편향을 조정하게 됩니다. 이러한 과정을 반복하면서 모델은 학습 데이터에 대해 높은 정확도를 가지는 패턴이나 규칙을 학습하게 되는 것이죠."
     ]
    }
   ],
   "source": [
    "# 스트리밍 출력을 위한 요청\n",
    "answer = chain.stream(input)\n",
    "# 스트리밍 출력\n",
    "stream_response(answer)"
   ]
  },
  {
   "cell_type": "markdown",
   "metadata": {},
   "source": [
    "### 템플릿을 변경하여 적용\n",
    "\n",
    "- 아래의 프롬프트 내용을 얼마든지 **변경** 하여 테스트 해볼 수 있습니다.\n",
    "- `model_name` 역시 변경하여 테스트가 가능합니다."
   ]
  },
  {
   "cell_type": "code",
   "execution_count": 17,
   "metadata": {},
   "outputs": [],
   "source": [
    "template = \"\"\"\n",
    "당신은 영어를 가르치는 10년차 영어 선생님입니다. 주어진 상황에 맞는 영어 회화를 작성해 주세요.\n",
    "양식은 [FORMAT]을 참고하여 작성해 주세요.\n",
    "\n",
    "#상황:\n",
    "{question}\n",
    "\n",
    "#FORMAT:\n",
    "- 영어 회화:\n",
    "- 한글 해석:\n",
    "\"\"\"\n",
    "\n",
    "# 프롬프트 템플릿을 이용하여 프롬프트를 생성합니다.\n",
    "prompt = PromptTemplate.from_template(template)\n",
    "\n",
    "# ChatOpenAI 챗모델을 초기화합니다.\n",
    "model = ChatOpenAI(model_name=\"gpt-4-turbo\")\n",
    "\n",
    "# 문자열 출력 파서를 초기화합니다.\n",
    "output_parser = StrOutputParser()"
   ]
  },
  {
   "cell_type": "code",
   "execution_count": 18,
   "metadata": {},
   "outputs": [],
   "source": [
    "# 체인을 구성합니다.\n",
    "chain = prompt | model | output_parser"
   ]
  },
  {
   "cell_type": "code",
   "execution_count": 19,
   "metadata": {},
   "outputs": [
    {
     "name": "stdout",
     "output_type": "stream",
     "text": [
      "- 영어 회화:\n",
      "  Customer: \"Hi, I'd like to have a table for two, please.\"\n",
      "  Waiter: \"Certainly! Right this way. Here's your menu.\"\n",
      "  Customer: \"Thank you. We'll need a couple of minutes to decide.\"\n",
      "  Waiter: \"Take your time. Can I start you off with some drinks?\"\n",
      "  Customer: \"Yes, could we have two glasses of water and one orange juice, please?\"\n",
      "  Waiter: \"Sure thing. I'll bring those right over. Let me know when you're ready to order.\"\n",
      "\n",
      "- 한글 해석:\n",
      "  손님: \"안녕하세요, 두 명이서 식사할 수 있는 테이블을 부탁해요.\"\n",
      "  웨이터: \"물론입니다! 이쪽으로 오세요. 여기 메뉴판입니다.\"\n",
      "  손님: \"감사합니다. 주문할 메뉴를 결정하는 데 조금 시간이 필요할 것 같아요.\"\n",
      "  웨이터: \"천천히 결정하세요. 음료로 먼저 시작하시겠어요?\"\n",
      "  손님: \"네, 물 두 잔과 오렌지 주스 한 잔 주세요.\"\n",
      "  웨이터: \"알겠습니다. 곧 가져다 드릴게요. 주문할 준비가 되면 알려주세요.\"\n"
     ]
    }
   ],
   "source": [
    "# 완성된 Chain을 실행하여 답변을 얻습니다.\n",
    "print(chain.invoke({\"question\": \"저는 식당에 가서 음식을 주문하고 싶어요\"}))"
   ]
  },
  {
   "cell_type": "code",
   "execution_count": 20,
   "metadata": {},
   "outputs": [
    {
     "name": "stdout",
     "output_type": "stream",
     "text": [
      "- 영어 회화:\n",
      "  A: Hi, could I have a table for two, please?\n",
      "  B: Of course! Right this way, please.\n",
      "  A: Thank you. We'd like to order now. Could I get the grilled salmon, and could she have the beef stew?\n",
      "  B: Absolutely, would you like any drinks or starters?\n",
      "  A: Yes, we'll have two glasses of white wine and a Caesar salad to share.\n",
      "  B: Great choices! I'll get those orders in for you.\n",
      "\n",
      "- 한글 해석:\n",
      "  A: 안녕하세요, 두 명이서 식사할 수 있는 자리 있나요?\n",
      "  B: 물론입니다! 이쪽으로 오세요.\n",
      "  A: 감사합니다. 지금 주문하고 싶어요. 저는 그릴 연어를 주문할게요, 그리고 그녀는 소고기 스튜를 주문할래요.\n",
      "  B: 좋습니다, 음료나 전채 요리도 주문하시겠어요?\n",
      "  A: 네, 화이트 와인 두 잔과 시저 샐러드 하나를 공유할게요.\n",
      "  B: 좋은 선택이세요! 주문을 넣어 드리겠습니다."
     ]
    }
   ],
   "source": [
    "# 완성된 Chain을 실행하여 답변을 얻습니다.\n",
    "# 스트리밍 출력을 위한 요청\n",
    "answer = chain.stream({\"question\": \"저는 식당에 가서 음식을 주문하고 싶어요\"})\n",
    "# 스트리밍 출력\n",
    "stream_response(answer)"
   ]
  },
  {
   "cell_type": "code",
   "execution_count": 21,
   "metadata": {},
   "outputs": [
    {
     "name": "stdout",
     "output_type": "stream",
     "text": [
      "- 영어 회화:\n",
      "  Person: Hi, I’d like to order a pizza for delivery, please.\n",
      "  Staff: Sure, what would you like?\n",
      "  Person: I’d like a large pepperoni pizza with extra cheese.\n",
      "  Staff: Anything else?\n",
      "  Person: Yes, can I also have a side of garlic bread and a 2-liter bottle of Coke?\n",
      "  Staff: Absolutely. Can I have your address, please?\n",
      "  Person: It’s 452 Pine Street, Apartment 2B.\n",
      "  Staff: Great, it'll be there in about 30-45 minutes. Your total comes to $29.50.\n",
      "  Person: Perfect, thank you!\n",
      "\n",
      "- 한글 해석:\n",
      "  고객: 안녕하세요, 배달로 피자 하나 주문하고 싶어요.\n",
      "  직원: 네, 무엇을 드릴까요?\n",
      "  고객: 큰 사이즈 페퍼로니 피자에 치즈를 추가해 주세요.\n",
      "  직원: 추가로 더 필요하신 것이 있나요?\n",
      "  고객: 네, 마늘빵 하나와 콜라 2리터도 주세요.\n",
      "  직원: 알겘습니다. 주소를 알려주시겠어요?\n",
      "  고객: 452 Pine Street, Apartment 2B입니다.\n",
      "  직원: 좋습니다. 약 30-45분 내에 배달될 거에요. 총 금액은 $29.50입니다.\n",
      "  고객: 좋습니다, 감사합니다!"
     ]
    }
   ],
   "source": [
    "# 이번에는 question 을 '미국에서 피자 주문'으로 설정하여 실행합니다.\n",
    "# 스트리밍 출력을 위한 요청\n",
    "answer = chain.stream({\"question\": \"미국에서 피자 주문\"})\n",
    "# 스트리밍 출력\n",
    "stream_response(answer)"
   ]
  }
 ],
 "metadata": {
  "kernelspec": {
   "display_name": "py-test",
   "language": "python",
   "name": "python3"
  },
  "language_info": {
   "codemirror_mode": {
    "name": "ipython",
    "version": 3
   },
   "file_extension": ".py",
   "mimetype": "text/x-python",
   "name": "python",
   "nbconvert_exporter": "python",
   "pygments_lexer": "ipython3",
   "version": "3.11.9"
  }
 },
 "nbformat": 4,
 "nbformat_minor": 2
}
